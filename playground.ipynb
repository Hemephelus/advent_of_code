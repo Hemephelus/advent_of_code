{
 "cells": [
  {
   "cell_type": "code",
   "execution_count": 2,
   "metadata": {},
   "outputs": [],
   "source": [
    "from helpers import txt_to_2D_list, txt_to_D_list, open_file "
   ]
  },
  {
   "cell_type": "markdown",
   "metadata": {},
   "source": [
    "## Inputs"
   ]
  },
  {
   "cell_type": "code",
   "execution_count": 29,
   "metadata": {},
   "outputs": [
    {
     "data": {
      "text/plain": [
       "['47|53',\n",
       " '97|13',\n",
       " '97|61',\n",
       " '97|47',\n",
       " '75|29',\n",
       " '61|13',\n",
       " '75|53',\n",
       " '29|13',\n",
       " '97|29',\n",
       " '53|29',\n",
       " '61|53',\n",
       " '97|53',\n",
       " '61|29',\n",
       " '47|13',\n",
       " '75|47',\n",
       " '97|75',\n",
       " '47|61',\n",
       " '75|61',\n",
       " '47|29',\n",
       " '75|13',\n",
       " '53|13',\n",
       " '',\n",
       " '75,47,61,53,29',\n",
       " '97,61,53,29,13',\n",
       " '75,29,13',\n",
       " '75,97,47,61,53',\n",
       " '61,13,29',\n",
       " '97,13,75,29,47']"
      ]
     },
     "execution_count": 29,
     "metadata": {},
     "output_type": "execute_result"
    }
   ],
   "source": [
    "# data = txt_to_D_list(r'C:\\Users\\HP\\Desktop\\dev\\fun\\advent_of_code\\2024\\day_5\\input.txt')\n",
    "data = txt_to_D_list(r'C:\\Users\\HP\\Desktop\\dev\\fun\\advent_of_code\\2024\\day_5\\test_input_1.txt')\n",
    "data"
   ]
  },
  {
   "cell_type": "markdown",
   "metadata": {},
   "source": [
    "## Puzzle 1"
   ]
  },
  {
   "cell_type": "code",
   "execution_count": 43,
   "metadata": {},
   "outputs": [
    {
     "name": "stdout",
     "output_type": "stream",
     "text": [
      "0 1\n",
      "0 2\n",
      "0 3\n",
      "0 4\n",
      "1 2\n",
      "1 3\n",
      "1 4\n",
      "2 3\n",
      "2 4\n",
      "3 4\n"
     ]
    },
    {
     "data": {
      "text/plain": [
       "0"
      ]
     },
     "execution_count": 43,
     "metadata": {},
     "output_type": "execute_result"
    }
   ],
   "source": [
    "i = data.index(\"\")\n",
    "data_1 = data[0:i]\n",
    "updates = data[i+1:-1]\n",
    "\n",
    "total = 0\n",
    "\n",
    "\n",
    "def is_correct(update):\n",
    "    is_correct = True\n",
    "    for i in range(len(update)):\n",
    "        for j in range(len(update)):\n",
    "            if j > i:\n",
    "                \n",
    "                if v()\n",
    "    \n",
    "    return is_correct\n",
    "\n",
    "\n",
    "for u in updates:\n",
    "    update = u.split(\",\")\n",
    "    if is_correct(update):\n",
    "        mid_index = (len(update)//2)+1\n",
    "        mid_num = update[mid_index]\n",
    "        total += int(mid_num)\n",
    "    break\n",
    "\n",
    "total"
   ]
  },
  {
   "cell_type": "markdown",
   "metadata": {},
   "source": [
    "## Puzzle 2"
   ]
  },
  {
   "cell_type": "code",
   "execution_count": 35,
   "metadata": {},
   "outputs": [
    {
     "data": {
      "text/plain": [
       "1"
      ]
     },
     "execution_count": 35,
     "metadata": {},
     "output_type": "execute_result"
    }
   ],
   "source": []
  },
  {
   "cell_type": "code",
   "execution_count": null,
   "metadata": {},
   "outputs": [],
   "source": []
  }
 ],
 "metadata": {
  "kernelspec": {
   "display_name": "Python 3",
   "language": "python",
   "name": "python3"
  },
  "language_info": {
   "codemirror_mode": {
    "name": "ipython",
    "version": 3
   },
   "file_extension": ".py",
   "mimetype": "text/x-python",
   "name": "python",
   "nbconvert_exporter": "python",
   "pygments_lexer": "ipython3",
   "version": "3.13.0"
  }
 },
 "nbformat": 4,
 "nbformat_minor": 2
}
